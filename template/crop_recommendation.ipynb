{
 "cells": [
  {
   "cell_type": "code",
   "execution_count": 1,
   "metadata": {},
   "outputs": [],
   "source": [
    "import pandas as pd\n",
    "import numpy as np"
   ]
  },
  {
   "cell_type": "code",
   "execution_count": 2,
   "metadata": {},
   "outputs": [
    {
     "data": {
      "text/html": [
       "<div>\n",
       "<style scoped>\n",
       "    .dataframe tbody tr th:only-of-type {\n",
       "        vertical-align: middle;\n",
       "    }\n",
       "\n",
       "    .dataframe tbody tr th {\n",
       "        vertical-align: top;\n",
       "    }\n",
       "\n",
       "    .dataframe thead th {\n",
       "        text-align: right;\n",
       "    }\n",
       "</style>\n",
       "<table border=\"1\" class=\"dataframe\">\n",
       "  <thead>\n",
       "    <tr style=\"text-align: right;\">\n",
       "      <th></th>\n",
       "      <th>N</th>\n",
       "      <th>P</th>\n",
       "      <th>K</th>\n",
       "      <th>temperature</th>\n",
       "      <th>humidity</th>\n",
       "      <th>ph</th>\n",
       "      <th>rainfall</th>\n",
       "      <th>label</th>\n",
       "    </tr>\n",
       "  </thead>\n",
       "  <tbody>\n",
       "    <tr>\n",
       "      <th>0</th>\n",
       "      <td>90</td>\n",
       "      <td>42</td>\n",
       "      <td>43</td>\n",
       "      <td>20.879744</td>\n",
       "      <td>82.002744</td>\n",
       "      <td>6.502985</td>\n",
       "      <td>202.935536</td>\n",
       "      <td>rice</td>\n",
       "    </tr>\n",
       "    <tr>\n",
       "      <th>1</th>\n",
       "      <td>85</td>\n",
       "      <td>58</td>\n",
       "      <td>41</td>\n",
       "      <td>21.770462</td>\n",
       "      <td>80.319644</td>\n",
       "      <td>7.038096</td>\n",
       "      <td>226.655537</td>\n",
       "      <td>rice</td>\n",
       "    </tr>\n",
       "    <tr>\n",
       "      <th>2</th>\n",
       "      <td>60</td>\n",
       "      <td>55</td>\n",
       "      <td>44</td>\n",
       "      <td>23.004459</td>\n",
       "      <td>82.320763</td>\n",
       "      <td>7.840207</td>\n",
       "      <td>263.964248</td>\n",
       "      <td>rice</td>\n",
       "    </tr>\n",
       "    <tr>\n",
       "      <th>3</th>\n",
       "      <td>74</td>\n",
       "      <td>35</td>\n",
       "      <td>40</td>\n",
       "      <td>26.491096</td>\n",
       "      <td>80.158363</td>\n",
       "      <td>6.980401</td>\n",
       "      <td>242.864034</td>\n",
       "      <td>rice</td>\n",
       "    </tr>\n",
       "    <tr>\n",
       "      <th>4</th>\n",
       "      <td>78</td>\n",
       "      <td>42</td>\n",
       "      <td>42</td>\n",
       "      <td>20.130175</td>\n",
       "      <td>81.604873</td>\n",
       "      <td>7.628473</td>\n",
       "      <td>262.717340</td>\n",
       "      <td>rice</td>\n",
       "    </tr>\n",
       "  </tbody>\n",
       "</table>\n",
       "</div>"
      ],
      "text/plain": [
       "    N   P   K  temperature   humidity        ph    rainfall label\n",
       "0  90  42  43    20.879744  82.002744  6.502985  202.935536  rice\n",
       "1  85  58  41    21.770462  80.319644  7.038096  226.655537  rice\n",
       "2  60  55  44    23.004459  82.320763  7.840207  263.964248  rice\n",
       "3  74  35  40    26.491096  80.158363  6.980401  242.864034  rice\n",
       "4  78  42  42    20.130175  81.604873  7.628473  262.717340  rice"
      ]
     },
     "execution_count": 2,
     "metadata": {},
     "output_type": "execute_result"
    }
   ],
   "source": [
    "crop_data = pd.read_csv('Crop_recommendation.csv')\n",
    "crop_data.head()"
   ]
  },
  {
   "cell_type": "code",
   "execution_count": 3,
   "metadata": {},
   "outputs": [
    {
     "name": "stdout",
     "output_type": "stream",
     "text": [
      "<class 'pandas.core.frame.DataFrame'>\n",
      "RangeIndex: 2200 entries, 0 to 2199\n",
      "Data columns (total 8 columns):\n",
      " #   Column       Non-Null Count  Dtype  \n",
      "---  ------       --------------  -----  \n",
      " 0   N            2200 non-null   int64  \n",
      " 1   P            2200 non-null   int64  \n",
      " 2   K            2200 non-null   int64  \n",
      " 3   temperature  2200 non-null   float64\n",
      " 4   humidity     2200 non-null   float64\n",
      " 5   ph           2200 non-null   float64\n",
      " 6   rainfall     2200 non-null   float64\n",
      " 7   label        2200 non-null   object \n",
      "dtypes: float64(4), int64(3), object(1)\n",
      "memory usage: 137.6+ KB\n"
     ]
    }
   ],
   "source": [
    "crop_data.info()"
   ]
  },
  {
   "cell_type": "markdown",
   "metadata": {},
   "source": [
    "Lets draw some of the descriptive statistics"
   ]
  },
  {
   "cell_type": "code",
   "execution_count": 4,
   "metadata": {},
   "outputs": [
    {
     "data": {
      "text/html": [
       "<div>\n",
       "<style scoped>\n",
       "    .dataframe tbody tr th:only-of-type {\n",
       "        vertical-align: middle;\n",
       "    }\n",
       "\n",
       "    .dataframe tbody tr th {\n",
       "        vertical-align: top;\n",
       "    }\n",
       "\n",
       "    .dataframe thead th {\n",
       "        text-align: right;\n",
       "    }\n",
       "</style>\n",
       "<table border=\"1\" class=\"dataframe\">\n",
       "  <thead>\n",
       "    <tr style=\"text-align: right;\">\n",
       "      <th></th>\n",
       "      <th>N</th>\n",
       "      <th>P</th>\n",
       "      <th>K</th>\n",
       "      <th>temperature</th>\n",
       "      <th>humidity</th>\n",
       "      <th>ph</th>\n",
       "      <th>rainfall</th>\n",
       "    </tr>\n",
       "  </thead>\n",
       "  <tbody>\n",
       "    <tr>\n",
       "      <th>count</th>\n",
       "      <td>2200.00</td>\n",
       "      <td>2200.00</td>\n",
       "      <td>2200.00</td>\n",
       "      <td>2200.00</td>\n",
       "      <td>2200.00</td>\n",
       "      <td>2200.00</td>\n",
       "      <td>2200.00</td>\n",
       "    </tr>\n",
       "    <tr>\n",
       "      <th>mean</th>\n",
       "      <td>50.55</td>\n",
       "      <td>53.36</td>\n",
       "      <td>48.15</td>\n",
       "      <td>25.62</td>\n",
       "      <td>71.48</td>\n",
       "      <td>6.47</td>\n",
       "      <td>103.46</td>\n",
       "    </tr>\n",
       "    <tr>\n",
       "      <th>std</th>\n",
       "      <td>36.92</td>\n",
       "      <td>32.99</td>\n",
       "      <td>50.65</td>\n",
       "      <td>5.06</td>\n",
       "      <td>22.26</td>\n",
       "      <td>0.77</td>\n",
       "      <td>54.96</td>\n",
       "    </tr>\n",
       "    <tr>\n",
       "      <th>min</th>\n",
       "      <td>0.00</td>\n",
       "      <td>5.00</td>\n",
       "      <td>5.00</td>\n",
       "      <td>8.83</td>\n",
       "      <td>14.26</td>\n",
       "      <td>3.50</td>\n",
       "      <td>20.21</td>\n",
       "    </tr>\n",
       "    <tr>\n",
       "      <th>25%</th>\n",
       "      <td>21.00</td>\n",
       "      <td>28.00</td>\n",
       "      <td>20.00</td>\n",
       "      <td>22.77</td>\n",
       "      <td>60.26</td>\n",
       "      <td>5.97</td>\n",
       "      <td>64.55</td>\n",
       "    </tr>\n",
       "    <tr>\n",
       "      <th>50%</th>\n",
       "      <td>37.00</td>\n",
       "      <td>51.00</td>\n",
       "      <td>32.00</td>\n",
       "      <td>25.60</td>\n",
       "      <td>80.47</td>\n",
       "      <td>6.43</td>\n",
       "      <td>94.87</td>\n",
       "    </tr>\n",
       "    <tr>\n",
       "      <th>75%</th>\n",
       "      <td>84.25</td>\n",
       "      <td>68.00</td>\n",
       "      <td>49.00</td>\n",
       "      <td>28.56</td>\n",
       "      <td>89.95</td>\n",
       "      <td>6.92</td>\n",
       "      <td>124.27</td>\n",
       "    </tr>\n",
       "    <tr>\n",
       "      <th>max</th>\n",
       "      <td>140.00</td>\n",
       "      <td>145.00</td>\n",
       "      <td>205.00</td>\n",
       "      <td>43.68</td>\n",
       "      <td>99.98</td>\n",
       "      <td>9.94</td>\n",
       "      <td>298.56</td>\n",
       "    </tr>\n",
       "  </tbody>\n",
       "</table>\n",
       "</div>"
      ],
      "text/plain": [
       "             N        P        K  temperature  humidity       ph  rainfall\n",
       "count  2200.00  2200.00  2200.00      2200.00   2200.00  2200.00   2200.00\n",
       "mean     50.55    53.36    48.15        25.62     71.48     6.47    103.46\n",
       "std      36.92    32.99    50.65         5.06     22.26     0.77     54.96\n",
       "min       0.00     5.00     5.00         8.83     14.26     3.50     20.21\n",
       "25%      21.00    28.00    20.00        22.77     60.26     5.97     64.55\n",
       "50%      37.00    51.00    32.00        25.60     80.47     6.43     94.87\n",
       "75%      84.25    68.00    49.00        28.56     89.95     6.92    124.27\n",
       "max     140.00   145.00   205.00        43.68     99.98     9.94    298.56"
      ]
     },
     "execution_count": 4,
     "metadata": {},
     "output_type": "execute_result"
    }
   ],
   "source": [
    "crop_data.describe().round(2)"
   ]
  },
  {
   "cell_type": "code",
   "execution_count": 5,
   "metadata": {},
   "outputs": [],
   "source": [
    "# Now separate features and target\n",
    "X = crop_data.drop('label', axis=1).values\n",
    "y = crop_data['label'].values"
   ]
  },
  {
   "cell_type": "code",
   "execution_count": 6,
   "metadata": {},
   "outputs": [
    {
     "data": {
      "text/plain": [
       "((2200, 7), (2200,))"
      ]
     },
     "execution_count": 6,
     "metadata": {},
     "output_type": "execute_result"
    }
   ],
   "source": [
    "X.shape, y.shape"
   ]
  },
  {
   "cell_type": "code",
   "execution_count": 7,
   "metadata": {},
   "outputs": [],
   "source": [
    "from sklearn.model_selection import GridSearchCV\n",
    "from sklearn.ensemble import RandomForestClassifier\n",
    "from sklearn.model_selection import train_test_split\n",
    "from sklearn.preprocessing import LabelEncoder"
   ]
  },
  {
   "cell_type": "code",
   "execution_count": 8,
   "metadata": {},
   "outputs": [
    {
     "data": {
      "text/plain": [
       "array([20, 20, 20, 20, 20])"
      ]
     },
     "execution_count": 8,
     "metadata": {},
     "output_type": "execute_result"
    }
   ],
   "source": [
    "label_encoder = LabelEncoder()\n",
    "y_encoded = label_encoder.fit_transform(y)\n",
    "y_encoded[:5]"
   ]
  },
  {
   "cell_type": "code",
   "execution_count": 9,
   "metadata": {},
   "outputs": [],
   "source": [
    "X_train, X_test, y_train, y_test = train_test_split(X, y_encoded, test_size=0.3, random_state=21)"
   ]
  },
  {
   "cell_type": "code",
   "execution_count": 11,
   "metadata": {},
   "outputs": [
    {
     "data": {
      "text/plain": [
       "array(['pomegranate', 'grapes', 'grapes', 'apple', 'mothbeans',\n",
       "       'watermelon', 'mothbeans', 'lentil', 'cotton', 'blackgram',\n",
       "       'pigeonpeas', 'muskmelon', 'lentil', 'rice', 'mango', 'blackgram',\n",
       "       'rice', 'mungbean', 'grapes', 'grapes', 'grapes', 'banana',\n",
       "       'lentil', 'banana', 'coffee', 'watermelon', 'jute', 'mungbean',\n",
       "       'apple', 'coconut', 'coffee', 'kidneybeans', 'grapes',\n",
       "       'pomegranate', 'mungbean', 'lentil', 'rice', 'mango', 'rice',\n",
       "       'watermelon', 'banana', 'pomegranate', 'chickpea', 'lentil',\n",
       "       'rice', 'pomegranate', 'grapes', 'mothbeans', 'mothbeans',\n",
       "       'grapes', 'watermelon', 'jute', 'rice', 'muskmelon', 'muskmelon',\n",
       "       'kidneybeans', 'papaya', 'orange', 'chickpea', 'grapes', 'coconut',\n",
       "       'cotton', 'grapes', 'blackgram', 'pomegranate', 'banana',\n",
       "       'muskmelon', 'orange', 'apple', 'pomegranate', 'grapes', 'lentil',\n",
       "       'pigeonpeas', 'mango', 'maize', 'pomegranate', 'maize', 'apple',\n",
       "       'jute', 'orange', 'kidneybeans', 'chickpea', 'coconut', 'lentil',\n",
       "       'grapes', 'grapes', 'papaya', 'papaya', 'coconut', 'orange',\n",
       "       'kidneybeans', 'coconut', 'muskmelon', 'banana', 'mothbeans',\n",
       "       'mothbeans', 'grapes', 'pomegranate', 'jute', 'mungbean',\n",
       "       'mungbean', 'chickpea', 'maize', 'mothbeans', 'apple', 'mothbeans',\n",
       "       'banana', 'pigeonpeas', 'banana', 'cotton', 'rice', 'banana',\n",
       "       'lentil', 'watermelon', 'mango', 'coconut', 'jute', 'maize',\n",
       "       'orange', 'maize', 'kidneybeans', 'papaya', 'rice', 'watermelon',\n",
       "       'mango', 'jute', 'blackgram', 'cotton', 'papaya', 'cotton',\n",
       "       'orange', 'lentil', 'papaya', 'muskmelon', 'papaya', 'banana',\n",
       "       'apple', 'coconut', 'grapes', 'mungbean', 'cotton', 'mungbean',\n",
       "       'watermelon', 'cotton', 'jute', 'chickpea', 'mango', 'apple',\n",
       "       'cotton', 'blackgram', 'jute', 'grapes', 'muskmelon', 'mango',\n",
       "       'apple', 'orange', 'cotton', 'chickpea', 'blackgram', 'papaya',\n",
       "       'mungbean', 'coffee', 'pigeonpeas', 'rice', 'blackgram', 'coffee',\n",
       "       'apple', 'maize', 'papaya', 'apple', 'jute', 'watermelon', 'jute',\n",
       "       'papaya', 'rice', 'muskmelon', 'kidneybeans', 'lentil', 'chickpea',\n",
       "       'maize', 'papaya', 'orange', 'rice', 'chickpea', 'rice', 'apple',\n",
       "       'mungbean', 'mango', 'coffee', 'grapes', 'kidneybeans',\n",
       "       'watermelon', 'chickpea', 'grapes', 'coconut', 'muskmelon',\n",
       "       'lentil', 'mothbeans', 'orange', 'blackgram', 'pomegranate',\n",
       "       'maize', 'blackgram', 'blackgram', 'coconut', 'chickpea',\n",
       "       'muskmelon', 'mango', 'mothbeans', 'cotton', 'orange', 'mothbeans',\n",
       "       'lentil', 'cotton', 'coconut', 'muskmelon', 'lentil',\n",
       "       'kidneybeans', 'jute', 'mothbeans', 'rice', 'blackgram', 'maize',\n",
       "       'blackgram', 'orange', 'jute', 'coconut', 'blackgram', 'mungbean',\n",
       "       'apple', 'pigeonpeas', 'apple', 'orange', 'maize', 'grapes',\n",
       "       'muskmelon', 'papaya', 'banana', 'cotton', 'mothbeans', 'coffee',\n",
       "       'maize', 'pomegranate', 'papaya', 'cotton', 'mothbeans', 'maize',\n",
       "       'jute', 'pomegranate', 'coffee', 'coffee', 'chickpea',\n",
       "       'pigeonpeas', 'jute', 'muskmelon', 'blackgram', 'papaya', 'papaya',\n",
       "       'mothbeans', 'chickpea', 'coffee', 'orange', 'maize', 'mothbeans',\n",
       "       'rice', 'blackgram', 'lentil', 'mango', 'apple', 'mungbean',\n",
       "       'kidneybeans', 'rice', 'pomegranate', 'lentil', 'chickpea',\n",
       "       'papaya', 'chickpea', 'banana', 'muskmelon', 'coconut', 'lentil',\n",
       "       'kidneybeans', 'chickpea', 'mango', 'cotton', 'mothbeans',\n",
       "       'orange', 'pomegranate', 'banana', 'kidneybeans', 'orange',\n",
       "       'mango', 'pigeonpeas', 'apple', 'mungbean', 'mungbean',\n",
       "       'pigeonpeas', 'lentil', 'mango', 'maize', 'grapes', 'chickpea',\n",
       "       'papaya', 'banana', 'jute', 'orange', 'watermelon', 'lentil',\n",
       "       'mango', 'papaya', 'lentil', 'watermelon', 'papaya', 'rice',\n",
       "       'kidneybeans', 'mungbean', 'watermelon', 'coffee', 'orange',\n",
       "       'banana', 'mungbean', 'rice', 'papaya', 'grapes', 'coconut',\n",
       "       'mothbeans', 'kidneybeans', 'jute', 'kidneybeans', 'chickpea',\n",
       "       'mungbean', 'rice', 'coffee', 'pigeonpeas', 'cotton', 'orange',\n",
       "       'maize', 'apple', 'cotton', 'lentil', 'banana', 'coffee',\n",
       "       'pomegranate', 'muskmelon', 'coffee', 'jute', 'jute', 'grapes',\n",
       "       'jute', 'chickpea', 'watermelon', 'mothbeans', 'jute',\n",
       "       'pigeonpeas', 'jute', 'blackgram', 'blackgram', 'maize',\n",
       "       'watermelon', 'mungbean', 'chickpea', 'maize', 'mothbeans',\n",
       "       'pomegranate', 'coconut', 'blackgram', 'coconut', 'maize', 'maize',\n",
       "       'coffee', 'coconut', 'mango', 'blackgram', 'papaya', 'mothbeans',\n",
       "       'coffee', 'mothbeans', 'grapes', 'coconut', 'orange', 'jute',\n",
       "       'coffee', 'mothbeans', 'papaya', 'banana', 'mothbeans', 'coffee',\n",
       "       'blackgram', 'coffee', 'apple', 'coffee', 'lentil', 'mothbeans',\n",
       "       'blackgram', 'coconut', 'lentil', 'lentil', 'grapes', 'rice',\n",
       "       'kidneybeans', 'pomegranate', 'orange', 'watermelon', 'apple',\n",
       "       'pigeonpeas', 'watermelon', 'maize', 'grapes', 'orange', 'lentil',\n",
       "       'watermelon', 'mungbean', 'muskmelon', 'pigeonpeas', 'coconut',\n",
       "       'jute', 'lentil', 'blackgram', 'pomegranate', 'coffee', 'coffee',\n",
       "       'pomegranate', 'chickpea', 'kidneybeans', 'chickpea', 'muskmelon',\n",
       "       'orange', 'pomegranate', 'grapes', 'rice', 'chickpea', 'coconut',\n",
       "       'grapes', 'pigeonpeas', 'banana', 'muskmelon', 'blackgram',\n",
       "       'kidneybeans', 'mungbean', 'mothbeans', 'mango', 'chickpea',\n",
       "       'pigeonpeas', 'coffee', 'apple', 'mungbean', 'coffee',\n",
       "       'pigeonpeas', 'watermelon', 'mango', 'mango', 'watermelon',\n",
       "       'cotton', 'watermelon', 'mothbeans', 'mungbean', 'coffee', 'mango',\n",
       "       'lentil', 'papaya', 'jute', 'maize', 'jute', 'pomegranate',\n",
       "       'blackgram', 'orange', 'orange', 'chickpea', 'mango', 'mungbean',\n",
       "       'jute', 'coconut', 'pigeonpeas', 'lentil', 'mango', 'jute',\n",
       "       'apple', 'watermelon', 'rice', 'apple', 'blackgram', 'coffee',\n",
       "       'banana', 'muskmelon', 'lentil', 'mungbean', 'muskmelon',\n",
       "       'mungbean', 'blackgram', 'coffee', 'papaya', 'blackgram',\n",
       "       'watermelon', 'banana', 'mungbean', 'papaya', 'kidneybeans',\n",
       "       'grapes', 'papaya', 'blackgram', 'coconut', 'watermelon',\n",
       "       'mungbean', 'mungbean', 'coffee', 'rice', 'coconut', 'papaya',\n",
       "       'mungbean', 'coffee', 'jute', 'mothbeans', 'mothbeans',\n",
       "       'muskmelon', 'pigeonpeas', 'banana', 'mothbeans', 'muskmelon',\n",
       "       'kidneybeans', 'banana', 'jute', 'mungbean', 'grapes', 'papaya',\n",
       "       'mungbean', 'cotton', 'kidneybeans', 'pomegranate', 'kidneybeans',\n",
       "       'mango', 'papaya', 'mothbeans', 'jute', 'jute', 'coffee',\n",
       "       'watermelon', 'coconut', 'banana', 'pomegranate', 'kidneybeans',\n",
       "       'maize', 'cotton', 'kidneybeans', 'apple', 'jute', 'cotton',\n",
       "       'banana', 'cotton', 'chickpea', 'muskmelon', 'coconut',\n",
       "       'pigeonpeas', 'pigeonpeas', 'mothbeans', 'maize', 'coffee',\n",
       "       'chickpea', 'chickpea', 'grapes', 'banana', 'coffee', 'rice',\n",
       "       'kidneybeans', 'mothbeans', 'rice', 'muskmelon', 'mothbeans',\n",
       "       'lentil', 'apple', 'blackgram', 'coffee', 'rice', 'mungbean',\n",
       "       'watermelon', 'jute', 'pigeonpeas', 'lentil', 'banana',\n",
       "       'kidneybeans', 'coconut', 'papaya', 'muskmelon', 'jute', 'coffee',\n",
       "       'rice', 'papaya', 'mango', 'papaya', 'orange', 'orange', 'cotton',\n",
       "       'mungbean', 'rice', 'blackgram', 'chickpea', 'cotton', 'mango',\n",
       "       'lentil', 'maize', 'cotton', 'watermelon', 'rice', 'mango',\n",
       "       'orange', 'banana', 'blackgram', 'mothbeans', 'pomegranate',\n",
       "       'maize', 'orange', 'banana', 'pomegranate', 'coffee', 'apple',\n",
       "       'pomegranate', 'grapes', 'cotton', 'kidneybeans', 'kidneybeans',\n",
       "       'coffee', 'grapes', 'mango', 'pomegranate', 'coconut',\n",
       "       'pigeonpeas', 'jute', 'pomegranate', 'kidneybeans', 'lentil',\n",
       "       'muskmelon', 'muskmelon', 'muskmelon', 'pomegranate', 'banana',\n",
       "       'banana', 'banana', 'maize', 'cotton', 'watermelon', 'orange',\n",
       "       'mango', 'mothbeans', 'lentil', 'cotton', 'kidneybeans', 'banana',\n",
       "       'banana', 'orange', 'grapes', 'pomegranate', 'cotton', 'mango',\n",
       "       'coffee', 'rice', 'pigeonpeas', 'coconut', 'muskmelon', 'rice',\n",
       "       'coffee', 'pomegranate'], dtype=object)"
      ]
     },
     "execution_count": 11,
     "metadata": {},
     "output_type": "execute_result"
    }
   ],
   "source": [
    "rfc = RandomForestClassifier(random_state=42)\n",
    "rfc.fit(X_train, y_train)\n",
    "y_prediction = rfc.predict(X_test)\n",
    "label_encoder.inverse_transform(y_prediction)\n"
   ]
  },
  {
   "cell_type": "code",
   "execution_count": null,
   "metadata": {},
   "outputs": [],
   "source": [
    "from sklearn.metrics import accuracy_score"
   ]
  },
  {
   "cell_type": "code",
   "execution_count": null,
   "metadata": {},
   "outputs": [],
   "source": [
    "acc = accuracy_score(y_test, y_prediction)"
   ]
  },
  {
   "cell_type": "code",
   "execution_count": null,
   "metadata": {},
   "outputs": [
    {
     "data": {
      "text/plain": [
       "0.9939393939393939"
      ]
     },
     "execution_count": 19,
     "metadata": {},
     "output_type": "execute_result"
    }
   ],
   "source": [
    "acc"
   ]
  },
  {
   "cell_type": "code",
   "execution_count": null,
   "metadata": {},
   "outputs": [],
   "source": []
  }
 ],
 "metadata": {
  "kernelspec": {
   "display_name": "Python 3",
   "language": "python",
   "name": "python3"
  },
  "language_info": {
   "codemirror_mode": {
    "name": "ipython",
    "version": 3
   },
   "file_extension": ".py",
   "mimetype": "text/x-python",
   "name": "python",
   "nbconvert_exporter": "python",
   "pygments_lexer": "ipython3",
   "version": "3.11.3"
  }
 },
 "nbformat": 4,
 "nbformat_minor": 2
}
